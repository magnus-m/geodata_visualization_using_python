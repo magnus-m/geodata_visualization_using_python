{
 "cells": [
  {
   "cell_type": "markdown",
   "metadata": {},
   "source": [
    "# CKAN data downloader example\n",
    "Stores data from portal.opendata.dk each 4.5 minutes into a PostgreSQL server"
   ]
  },
  {
   "cell_type": "code",
   "execution_count": 1,
   "metadata": {},
   "outputs": [],
   "source": [
    "from time import sleep\n",
    "from urllib import request\n",
    "import json\n",
    "import psycopg2"
   ]
  },
  {
   "cell_type": "code",
   "execution_count": 2,
   "metadata": {},
   "outputs": [],
   "source": [
    "table_name = 'iot.aarhus_trafik_data'\n",
    "url_link = '/api/3/action/datastore_search?resource_id=b3eeb0ff-c8a8-4824-99d6-e0a3747c8b0d'\n",
    "unique_contrain = ['_id','\"TIMESTAMP\"']\n",
    "\n",
    "host = '12.34.56.789'\n",
    "port ='5432'\n",
    "dbname = 'dbname'\n",
    "user = 'username'\n",
    "password = 'password'"
   ]
  },
  {
   "cell_type": "code",
   "execution_count": 9,
   "metadata": {},
   "outputs": [],
   "source": [
    "def get_ckan_data(url_link):\n",
    "    url_base = 'http://portal.opendata.dk'\n",
    "    url = url_base + url_link\n",
    "    with request.urlopen(url) as f:\n",
    "        json_data_byte = f.read()\n",
    "        json_data = json.loads(json_data_byte)\n",
    "\n",
    "    return json_data"
   ]
  },
  {
   "cell_type": "code",
   "execution_count": 10,
   "metadata": {},
   "outputs": [],
   "source": [
    "def do_sql(sql, fetch=False):\n",
    "    conn_string = f\"host='{host}' port='{port}' dbname='{dbname}' user='{user}' password='{password}'\"\n",
    "    print(\"Connecting to database\\n ->{0}\".format(conn_string))\n",
    "    conn = psycopg2.connect(conn_string)\n",
    "    cursor = conn.cursor()\n",
    "    print(\"Connected!\\n\")\n",
    "    cursor.execute(sql)\n",
    "    conn.commit()\n",
    "    # retrieve the records from the database\n",
    "    if fetch:\n",
    "        records = cursor.fetchall()\n",
    "        return records"
   ]
  },
  {
   "cell_type": "code",
   "execution_count": 11,
   "metadata": {},
   "outputs": [],
   "source": [
    "def create_table_def(table_def):\n",
    "    check_table = do_sql(f\"SELECT to_regclass'{table_name}');\", fetch=True)\n",
    "    print(check_table)\n",
    "    if check_table[0][0] is None:\n",
    "\n",
    "        sql_start = f'CREATE TABLE {table_name} ('\n",
    "        sql_mid = ''\n",
    "        sql_end = ');'\n",
    "\n",
    "        for column in enumerate(table_def):\n",
    "\n",
    "            i = column[0]\n",
    "            column = column[1]\n",
    "            end = ', '\n",
    "\n",
    "            if column['id'] in unique_contrain:\n",
    "                unique_column_name = '\"' + '\", \"'.join(unique_contrain) + '\"'\n",
    "                unique = f', UNIQUE({unique_column_name})'\n",
    "\n",
    "            else:\n",
    "                unique = ''\n",
    "\n",
    "\n",
    "            if i == len(table_def) - 1:\n",
    "                end = ' '\n",
    "\n",
    "            sql_mid += '\"' + column['id'] + '\"' + ' ' + column['type'] + unique + end\n",
    "\n",
    "\n",
    "        sql = sql_start + sql_mid + sql_end\n",
    "        print('\\n executing sql:',sql)\n",
    "        do_sql(sql)\n",
    "\n",
    "    else:\n",
    "        print(table_name, 'already exists')"
   ]
  },
  {
   "cell_type": "code",
   "execution_count": 12,
   "metadata": {},
   "outputs": [],
   "source": [
    "def insert_into_table(table_content, types, table_name):\n",
    "\n",
    "    sql_content = \"\"\n",
    "    for row in table_content:\n",
    "\n",
    "        columns = ''\n",
    "        sql_row = \"(\"\n",
    "\n",
    "        i = 0\n",
    "        for key in row:\n",
    "            columns += '\"' + key + '\",'\n",
    "            sql_row += \"'\" + str(row[key]).replace(\"'\",\"''\") + \"'::\" + types[key] + \",\"\n",
    "            i += 1\n",
    "\n",
    "        sql_row = sql_row[:-1] + \"),\"\n",
    "\n",
    "        sql_content += sql_row\n",
    "\n",
    "    sql_top = f'INSERT INTO {table_name} ({columns[:-1]}) VALUES '\n",
    "\n",
    "    return sql_top + sql_content[:-1] + \"ON CONFLICT (\" + ', '.join(unique_contrain) + \") DO NOTHING;\""
   ]
  },
  {
   "cell_type": "code",
   "execution_count": 13,
   "metadata": {},
   "outputs": [],
   "source": [
    "def run(url_link):\n",
    "    \n",
    "    def reload_json_data(url_link):\n",
    "        print('getting data via link', url_link)\n",
    "\n",
    "        json_data = get_ckan_data(url_link)\n",
    "        table_def = json_data['result']['fields']\n",
    "        table_content = json_data['result']['records']\n",
    "        link_next = json_data['result']['_links']['next']\n",
    "        return table_def, table_content, link_next\n",
    "\n",
    "    table_def, table_content, link_next = reload_json_data(url_link)\n",
    "\n",
    "    create_table_def(table_def)\n",
    "    \n",
    "    while len(table_content) > 0:\n",
    "        print('results found')\n",
    "\n",
    "        types = {}\n",
    "        for d in table_def:\n",
    "            types[d['id']] = d['type']\n",
    "\n",
    "        sql_insert = insert_into_table(table_content, types, table_name)\n",
    "\n",
    "        do_sql(sql_insert)\n",
    "\n",
    "        table_def, table_content, link_next = reload_json_data(link_next)\n",
    "\n",
    "    else:\n",
    "        print('no results found')"
   ]
  },
  {
   "cell_type": "code",
   "execution_count": 14,
   "metadata": {},
   "outputs": [],
   "source": [
    "def timer(url_link):\n",
    "\n",
    "    while True:\n",
    "        wait = 60*4.5\n",
    "        try:\n",
    "            run(url_link)\n",
    "        except:\n",
    "            sleep(60)\n",
    "            run(url_link)\n",
    "        print('waiting', round(wait/60, 2), 'minutes')\n",
    "        sleep(wait)"
   ]
  },
  {
   "cell_type": "code",
   "execution_count": null,
   "metadata": {
    "scrolled": false
   },
   "outputs": [],
   "source": [
    "# run\n",
    "timer(url_link)"
   ]
  }
 ],
 "metadata": {
  "kernelspec": {
   "display_name": "Python 3",
   "language": "python",
   "name": "python3"
  },
  "language_info": {
   "codemirror_mode": {
    "name": "ipython",
    "version": 3
   },
   "file_extension": ".py",
   "mimetype": "text/x-python",
   "name": "python",
   "nbconvert_exporter": "python",
   "pygments_lexer": "ipython3",
   "version": "3.6.4"
  }
 },
 "nbformat": 4,
 "nbformat_minor": 2
}
